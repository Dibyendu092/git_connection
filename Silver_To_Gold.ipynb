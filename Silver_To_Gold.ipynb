{
 "cells": [
  {
   "cell_type": "markdown",
   "metadata": {
    "application/vnd.databricks.v1+cell": {
     "cellMetadata": {},
     "inputWidgets": {},
     "nuid": "d78f5952-92d2-45e3-8d8b-c4ce8a4be995",
     "showTitle": false,
     "tableResultSettingsMap": {},
     "title": ""
    }
   },
   "source": [
    "###Filtration and Creation of employee Gold table"
   ]
  },
  {
   "cell_type": "code",
   "execution_count": 0,
   "metadata": {
    "application/vnd.databricks.v1+cell": {
     "cellMetadata": {
      "byteLimit": 2048000,
      "implicitDf": true,
      "rowLimit": 10000
     },
     "inputWidgets": {},
     "nuid": "ad1f40bd-b77b-4937-90f6-b9a91f494fe8",
     "showTitle": false,
     "tableResultSettingsMap": {},
     "title": ""
    }
   },
   "outputs": [],
   "source": [
    "%sql create table adventure_works2016.humanresources.gold_employee\n",
    "using delta\n",
    "location 'abfss://silver@adventurestorage2016.dfs.core.windows.net/human_resource_silver/gold_employee'\n",
    "as\n",
    "select\n",
    "  row_number() over (order by BusinessEntityID) as employee_PK,\n",
    "  coalesce(cast(BusinessEntityID as string), 'NA') as BusinessEntityID,\n",
    "  coalesce(cast(DepartmentID as string), 'NA') as DepartmentID,\n",
    "  coalesce(cast(ShiftID as string), 'NA') as ShiftID,\n",
    "  coalesce(cast(StartDate as string), 'NA') as StartDate,\n",
    "  coalesce(cast(EndDate as string), 'NA') as EndDate,\n",
    "  coalesce(cast(ModifiedDate as string), 'NA') as ModifiedDate,\n",
    "  coalesce(EmployeeDepartment, 'NA') as EmployeeDepartment,\n",
    "  coalesce(EmployeeDomain, 'NA') as EmployeeDomain,\n",
    "  coalesce(cast(EmployeeDepartmentModifieddate as string), 'NA') as EmployeeDepartmentModifieddate,\n",
    "  coalesce(cast(EmployeeRateChangeDate as string), 'NA') as EmployeeRateChangeDate,\n",
    "  coalesce(cast(EmployeeRate as string), 'NA') as EmployeeRate,\n",
    "  coalesce(cast(EmployeePayFrequency as string), 'NA') as EmployeePayFrequency,\n",
    "  coalesce(cast(EmployeePayhistoryModifieddate as string), 'NA') as EmployeePayhistoryModifieddate,\n",
    "  coalesce(cast(ShiftStarttime as string), 'NA') as ShiftStarttime,\n",
    "  coalesce(cast(ShiftEndtime as string), 'NA') as ShiftEndtime,\n",
    "  coalesce(cast(Shift_Modified_Date as string), 'NA') as Shift_Modified_Date,\n",
    "  coalesce(EmployeeTitle, 'NA') as EmployeeTitle,\n",
    "  coalesce(EmployeeFirstName, 'NA') as EmployeeFirstName,\n",
    "  coalesce(EmployeeLastName, 'NA') as EmployeeLastName,\n",
    "  coalesce(EmployeeMiddleName, 'NA') as EmployeeMiddleName,\n",
    "  coalesce(EmployeeSuffix, 'NA') as EmployeeSuffix,\n",
    "  coalesce(EmployeeJobTitle, 'NA') as EmployeeJobTitle,\n",
    "  coalesce(cast(EmployeeDepartmentStartDate as string), 'NA') as EmployeeDepartmentStartDate,\n",
    "  coalesce(cast(EmployeeDepartmentEndDate as string), 'NA') as EmployeeDepartmentEndDate\n",
    "from adventure_works2016.humanresources.silver_employee_details"
   ]
  },
  {
   "cell_type": "markdown",
   "metadata": {
    "application/vnd.databricks.v1+cell": {
     "cellMetadata": {},
     "inputWidgets": {},
     "nuid": "d71a0afb-673a-4254-8270-2c4945671196",
     "showTitle": false,
     "tableResultSettingsMap": {},
     "title": ""
    }
   },
   "source": []
  },
  {
   "cell_type": "markdown",
   "metadata": {
    "application/vnd.databricks.v1+cell": {
     "cellMetadata": {},
     "inputWidgets": {},
     "nuid": "21c812ba-d603-4f7a-bd4e-269086db10e6",
     "showTitle": false,
     "tableResultSettingsMap": {},
     "title": ""
    }
   },
   "source": [
    "######Filtration and Creation of job candidate Gold table"
   ]
  },
  {
   "cell_type": "code",
   "execution_count": 0,
   "metadata": {
    "application/vnd.databricks.v1+cell": {
     "cellMetadata": {
      "byteLimit": 2048000,
      "implicitDf": true,
      "rowLimit": 10000
     },
     "inputWidgets": {},
     "nuid": "55b6062d-d140-46eb-8bac-3130989a25eb",
     "showTitle": false,
     "tableResultSettingsMap": {
      "0": {
       "dataGridStateBlob": "{\"version\":1,\"tableState\":{\"columnPinning\":{\"left\":[\"#row_number#\"],\"right\":[]},\"columnSizing\":{},\"columnVisibility\":{}},\"settings\":{\"columns\":{}},\"syncTimestamp\":1755101011624}",
       "filterBlob": null,
       "queryPlanFiltersBlob": null,
       "tableResultIndex": 0
      }
     },
     "title": ""
    }
   },
   "outputs": [],
   "source": [
    "%sql\n",
    "CREATE TABLE adventure_works2016.humanresources.gold_jobcandidate\n",
    "USING DELTA\n",
    "LOCATION 'abfss://silver@adventurestorage2016.dfs.core.windows.net/human_resource_silver/gold_jobcandidate'\n",
    "AS\n",
    "SELECT  \n",
    "  ROW_NUMBER() OVER (ORDER BY JobCandidateID) AS job_candidate_PK,\n",
    "  COALESCE(BusinessEntityID, 0) AS BusinessEntityID,\n",
    "  JobCandidateID,\n",
    "  CandidateName,\n",
    "  CandidateModifiedDate,\n",
    "  CandidateFirstName,\n",
    "  CandidateLastName,\n",
    "  COALESCE(NULLIF(CandidateNamePrefix, ''), 'XXXXX') AS CandidateNamePrefix,\n",
    "  CandidateSkills,\n",
    "  AddressType,\n",
    "  AddressCountryRegion,\n",
    "  AddressState,\n",
    "  AddressCity,\n",
    "  AddressPostalCode,\n",
    "  EducationLevel,\n",
    "  EducationStartDate,\n",
    "  EducationEndDate,\n",
    "  EducationDegree,\n",
    "  EducationGPA,\n",
    "  EducationGPAScale,\n",
    "  EducationSchool,\n",
    "  EducationCountryRegion,\n",
    "  EducationState,\n",
    "  EducationCity,\n",
    "  JobTitle,\n",
    "  JobOrgName,\n",
    "  JobEndDate,\n",
    "  JobStartDate,\n",
    "  JobResponsibility,\n",
    "  JobFunctionCategory,\n",
    "  JobIndustryCategory,\n",
    "  JobCountryRegion,\n",
    "  JobState,\n",
    "  COALESCE(NULLIF(TRANSLATE(CandidateWebsite, 'áéíóúüñç', 'aeiouunc'), ''), 'XXXXXX') AS CandidateWebsite,\n",
    "  COALESCE(NULLIF(TRANSLATE(JobCity, 'áéíóúüñç', 'aeiouunc'), ''), 'XXXXXX') AS JobCity,\n",
    "  COALESCE(NULLIF(TRANSLATE(EducationMajor, 'áéíóúüñç', 'aeiouunc'), ''), 'XXXXXX') AS EducationMajor,\n",
    "  COALESCE(NULLIF(TRANSLATE(EducationMinor, 'áéíóúüñç', 'aeiouunc'), ''), 'XXXXXX') AS EducationMinor,\n",
    "  COALESCE(NULLIF(TRANSLATE(CandidateEmail, 'áéíóúüñç', 'aeiouunc'), ''), 'XXXXXX') AS CandidateEmail,\n",
    "  COALESCE(NULLIF(TRANSLATE(CandidateNameSuffix, 'áéíóúüñç', 'aeiouunc'), ''), 'XXXXXX') AS CandidateNameSuffix,\n",
    "  COALESCE(NULLIF(TRANSLATE(CandidateMiddleName, 'áéíóúüñç', 'aeiouunc'), ''), 'XXXXXX') AS CandidateMiddleName\n",
    "FROM adventure_works2016.humanresources.silver_jobcandidate_details"
   ]
  }
 ],
 "metadata": {
  "application/vnd.databricks.v1+notebook": {
   "computePreferences": {
    "hardware": {
     "accelerator": null,
     "gpuPoolId": null,
     "memory": null
    }
   },
   "dashboards": [],
   "environmentMetadata": {
    "base_environment": "",
    "environment_version": "2"
   },
   "inputWidgetPreferences": null,
   "language": "python",
   "notebookMetadata": {
    "mostRecentlyExecutedCommandWithImplicitDF": {
     "commandId": 7438391233319995,
     "dataframes": [
      "_sqldf"
     ]
    },
    "pythonIndentUnit": 4
   },
   "notebookName": "Silver_To_Gold",
   "widgets": {}
  },
  "language_info": {
   "name": "python"
  }
 },
 "nbformat": 4,
 "nbformat_minor": 0
}
