{
 "cells": [
  {
   "cell_type": "code",
   "execution_count": 0,
   "metadata": {
    "application/vnd.databricks.v1+cell": {
     "cellMetadata": {
      "byteLimit": 2048000,
      "implicitDf": true,
      "rowLimit": 10000
     },
     "inputWidgets": {},
     "nuid": "64cc5688-5e8e-4256-a5fb-b101b9d80f0f",
     "showTitle": false,
     "tableResultSettingsMap": {},
     "title": ""
    }
   },
   "outputs": [],
   "source": [
    "%sql\n",
    "drop catalog demo1 cascade"
   ]
  },
  {
   "cell_type": "markdown",
   "metadata": {
    "application/vnd.databricks.v1+cell": {
     "cellMetadata": {},
     "inputWidgets": {},
     "nuid": "5e8a4552-75b7-417b-9f8b-eef8e9b13b53",
     "showTitle": false,
     "tableResultSettingsMap": {},
     "title": ""
    }
   },
   "source": [
    "####Copy Table as a bulk from ADLS GEN2"
   ]
  },
  {
   "cell_type": "code",
   "execution_count": 0,
   "metadata": {
    "application/vnd.databricks.v1+cell": {
     "cellMetadata": {
      "byteLimit": 2048000,
      "rowLimit": 10000
     },
     "inputWidgets": {},
     "nuid": "a2fa9e4b-882f-4af5-b019-bdabbaffc8a6",
     "showTitle": false,
     "tableResultSettingsMap": {},
     "title": ""
    }
   },
   "outputs": [],
   "source": [
    "# Base ADLS Gen2 path (container level)\n",
    "source_base_path = \"abfss://target@adventurestorage2016.dfs.core.windows.net/\"\n",
    "\n",
    "# External storage location for Delta tables (must be accessible & registered in UC if needed)\n",
    "external_base_path = \"abfss://bronze@adventurestorage2016.dfs.core.windows.net/\"\n",
    "\n",
    "# UC Catalog\n",
    "catalog_name = \"adventure_works2016\"\n",
    "\n",
    "# List all schema folders inside the container\n",
    "schemas_df = dbutils.fs.ls(source_base_path)\n",
    "\n",
    "for schema_folder in schemas_df:\n",
    "    schema_name = schema_folder.name.rstrip(\"/\")\n",
    "    schema_name_uc = schema_name.lower()\n",
    "\n",
    "    # Create schema if it doesn't exist\n",
    "    spark.sql(f\"CREATE SCHEMA IF NOT EXISTS {catalog_name}.{schema_name_uc}\")\n",
    "\n",
    "    # List all tables inside the schema folder\n",
    "    tables_df = dbutils.fs.ls(schema_folder.path)\n",
    "    for table_folder in tables_df:\n",
    "        table_name = f\"bronze_{table_folder.name.rstrip('/').lower()}\"\n",
    "        source_path = table_folder.path\n",
    "\n",
    "        # External location for Delta data\n",
    "        target_path = f\"{external_base_path}{schema_name_uc}/bronze_{table_name}\"\n",
    "\n",
    "        print(f\"Processing: {source_path} → {catalog_name}.{schema_name_uc}.{table_name}\")\n",
    "        print(f\"External location: {target_path}\")\n",
    "\n",
    "        # Read parquet\n",
    "        df = spark.read.parquet(source_path)\n",
    "\n",
    "        # Write Delta data to external location\n",
    "        df.write.format(\"delta\").mode(\"overwrite\").save(target_path)\n",
    "\n",
    "        # Register external table in Unity Catalog\n",
    "        spark.sql(f\"\"\"\n",
    "            CREATE TABLE IF NOT EXISTS {catalog_name}.{schema_name_uc}.{table_name}\n",
    "            USING DELTA\n",
    "            LOCATION '{target_path}'\n",
    "        \"\"\")\n",
    "\n",
    "        print(f\"✅ Loaded into {catalog_name}.{schema_name_uc}.{table_name} (External at {target_path})\")\n"
   ]
  },
  {
   "cell_type": "code",
   "execution_count": 0,
   "metadata": {
    "application/vnd.databricks.v1+cell": {
     "cellMetadata": {
      "byteLimit": 2048000,
      "implicitDf": true,
      "rowLimit": 10000
     },
     "inputWidgets": {},
     "nuid": "0a6237e6-31a3-4680-b7f7-bac4e62f70d6",
     "showTitle": false,
     "tableResultSettingsMap": {},
     "title": ""
    }
   },
   "outputs": [],
   "source": [
    "%sql\n",
    "Select * from adventure_works2016.production.bronze_productcosthistory"
   ]
  }
 ],
 "metadata": {
  "application/vnd.databricks.v1+notebook": {
   "computePreferences": {
    "hardware": {
     "accelerator": null,
     "gpuPoolId": null,
     "memory": null
    }
   },
   "dashboards": [],
   "environmentMetadata": {
    "base_environment": "",
    "environment_version": "2"
   },
   "inputWidgetPreferences": null,
   "language": "python",
   "notebookMetadata": {
    "mostRecentlyExecutedCommandWithImplicitDF": {
     "commandId": 4843535939539100,
     "dataframes": [
      "_sqldf"
     ]
    },
    "pythonIndentUnit": 4
   },
   "notebookName": "SSMS_TABLE_LOAD_bronze",
   "widgets": {}
  },
  "language_info": {
   "name": "python"
  }
 },
 "nbformat": 4,
 "nbformat_minor": 0
}
