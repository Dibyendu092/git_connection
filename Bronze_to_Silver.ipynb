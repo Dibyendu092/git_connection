{
 "cells": [
  {
   "cell_type": "markdown",
   "metadata": {
    "application/vnd.databricks.v1+cell": {
     "cellMetadata": {},
     "inputWidgets": {},
     "nuid": "9a69b1fc-85b1-40dd-99ff-a92112c65b32",
     "showTitle": false,
     "tableResultSettingsMap": {},
     "title": ""
    }
   },
   "source": [
    "###Employee_silver_table"
   ]
  },
  {
   "cell_type": "code",
   "execution_count": 0,
   "metadata": {
    "application/vnd.databricks.v1+cell": {
     "cellMetadata": {
      "byteLimit": 2048000,
      "rowLimit": 10000
     },
     "inputWidgets": {},
     "nuid": "ed9ea437-d25b-4c9b-b2bd-e15a30a398dc",
     "showTitle": false,
     "tableResultSettingsMap": {
      "0": {
       "dataGridStateBlob": "{\"version\":1,\"tableState\":{\"columnPinning\":{\"left\":[\"#row_number#\"],\"right\":[]},\"columnSizing\":{},\"columnVisibility\":{}},\"settings\":{\"columns\":{}},\"syncTimestamp\":1755069709663}",
       "filterBlob": null,
       "queryPlanFiltersBlob": null,
       "tableResultIndex": 0
      }
     },
     "title": ""
    }
   },
   "outputs": [],
   "source": [
    "query = \"\"\"\n",
    "select b.*, a.Name as EmployeeDepartment, a.GroupName as EmployeeDomain, a.ModifiedDate as EmployeeDepartmentModifieddate, \n",
    "c.RateChangeDate as EmployeeRateChangeDate, c.Rate as EmployeeRate, c.PayFrequency as EmployeePayFrequency, c.ModifiedDate as EmployeePayhistoryModifieddate, \n",
    "d.StartTime as ShiftStarttime, d.EndTime as ShiftEndtime, d.ModifiedDate as Shift_Modified_Date,\n",
    "e.Title as EmployeeTitle,e.FirstName as EmployeeFirstName, e.LastName as EmployeeLastName, e.MiddleName as EmployeeMiddleName, e.Suffix as EmployeeSuffix, e.JobTitle as EmployeeJobTitle,\n",
    "f.StartDate as EmployeeDepartmentStartDate, f.EndDate as EmployeeDepartmentEndDate\n",
    "\n",
    "from adventure_works2016.humanresources.bronze_department as a\n",
    "inner join adventure_works2016.humanresources.bronze_employeedepartmenthistory as b\n",
    "on a.DepartmentID = b.DepartmentID\n",
    "\n",
    "inner join adventure_works2016.humanresources.bronze_employeepayhistory as c\n",
    "on b.BusinessEntityID = c.BusinessEntityID \n",
    "\n",
    "inner join adventure_works2016.humanresources.bronze_shift as d\n",
    "on b.ShiftID = d.ShiftID\n",
    "\n",
    "inner join adventure_works2016.humanresources.bronze_vemployeedepartment as e\n",
    "on b.BusinessEntityID = e.BusinessEntityID\n",
    "\n",
    "inner join adventure_works2016.humanresources.bronze_vemployeedepartmenthistory as f\n",
    "on b.BusinessEntityID = f.BusinessEntityID\n",
    "\"\"\"\n",
    "\n",
    "df = spark.sql(query)\n",
    "df.write.format(\"delta\").mode(\"overwrite\").saveAsTable(\"adventure_works2016.humanresources.silver_Employee_Details\")\n",
    "display(spark.table(\"adventure_works2016.humanresources.silver_Employee_Details\"))"
   ]
  },
  {
   "cell_type": "markdown",
   "metadata": {
    "application/vnd.databricks.v1+cell": {
     "cellMetadata": {},
     "inputWidgets": {},
     "nuid": "9626f019-0a05-4c57-a16e-13a4e206da91",
     "showTitle": false,
     "tableResultSettingsMap": {},
     "title": ""
    }
   },
   "source": [
    "###Job_Candidate Silver Table"
   ]
  },
  {
   "cell_type": "code",
   "execution_count": 0,
   "metadata": {
    "application/vnd.databricks.v1+cell": {
     "cellMetadata": {
      "byteLimit": 2048000,
      "rowLimit": 10000
     },
     "inputWidgets": {},
     "nuid": "c92f9b72-fc92-4d18-ae9e-91e3f3852a2c",
     "showTitle": false,
     "tableResultSettingsMap": {},
     "title": ""
    }
   },
   "outputs": [],
   "source": [
    "query = \"\"\"\n",
    "SELECT \n",
    "    c.JobCandidateID, c.BusinessEntityID,\n",
    "    CONCAT(c.`Name.First`, ' ', c.`Name.Last`) as CandidateName,\n",
    "    c.ModifiedDate as CandidateModifiedDate,\n",
    "    c.`Name.First` as CandidateFirstName,\n",
    "    c.`Name.Last` as CandidateLastName,\n",
    "    c.`Name.Middle` as CandidateMiddleName,\n",
    "    c.`Name.Suffix` as CandidateNameSuffix,\n",
    "    c.`Name.Prefix` as CandidateNamePrefix,\n",
    "    c.Skills as CandidateSkills,\n",
    "    c.`Addr.Type` as AddressType,\n",
    "    c.`Addr.Loc.CountryRegion` as AddressCountryRegion,\n",
    "    c.`Addr.Loc.State` as AddressState,\n",
    "    c.`Addr.Loc.City` as AddressCity,\n",
    "    c.`Addr.PostalCode` as AddressPostalCode,\n",
    "    c.email as CandidateEmail,\n",
    "    c.Website as CandidateWebsite,\n",
    "    ed.`Edu.Degree` as EducationLevel,\n",
    "    ed.`Edu.StartDate` as EducationStartDate,\n",
    "    ed.`Edu.EndDate` as EducationEndDate,\n",
    "    ed.`Edu.Degree` as EducationDegree,\n",
    "    ed.`Edu.Major` as EducationMajor,\n",
    "    ed.`Edu.Minor` as EducationMinor,\n",
    "    ed.`Edu.GPA`as EducationGPA,\n",
    "    ed.`Edu.GPAScale` as EducationGPAScale,\n",
    "    ed.`Edu.School` as EducationSchool,\n",
    "    ed.`Edu.Loc.CountryRegion` as EducationCountryRegion,\n",
    "    ed.`Edu.Loc.State` as EducationState,\n",
    "    ed.`Edu.Loc.City` as EducationCity,\n",
    "    emp.`Emp.JobTitle` as JobTitle,\n",
    "    emp.`Emp.OrgName` as JobOrgName,\n",
    "    emp.`Emp.EndDate` as JobEndDate,\n",
    "    emp.`Emp.StartDate` as JobStartDate,\n",
    "    emp.`Emp.Responsibility` as JobResponsibility,\n",
    "    emp.`Emp.FunctionCategory` as JobFunctionCategory,\n",
    "    emp.`Emp.IndustryCategory` as JobIndustryCategory,\n",
    "    emp.`Emp.Loc.CountryRegion` as JobCountryRegion,\n",
    "    emp.`Emp.Loc.State` as JobState,\n",
    "    emp.`Emp.Loc.City` as JobCity\n",
    "FROM \n",
    "    adventure_works2016.humanresources.bronze_vjobcandidate c\n",
    "INNER JOIN \n",
    "    adventure_works2016.humanresources.bronze_vjobcandidateeducation ed\n",
    "ON \n",
    "    c.JobCandidateID = ed.JobCandidateID\n",
    "INNER JOIN \n",
    "    adventure_works2016.humanresources.bronze_vjobcandidateemployment emp\n",
    "ON \n",
    "    c.JobCandidateID = emp.JobCandidateID\n",
    "\"\"\"\n",
    "\n",
    "df = spark.sql(query)\n",
    "df.write.format(\"delta\").mode(\"overwrite\").saveAsTable(\"adventure_works2016.humanresources.silver_JobCandidate_Details\")\n",
    "display(spark.table(\"adventure_works2016.humanresources.silver_JobCandidate_Details\"))"
   ]
  },
  {
   "cell_type": "code",
   "execution_count": 0,
   "metadata": {
    "application/vnd.databricks.v1+cell": {
     "cellMetadata": {
      "byteLimit": 2048000,
      "rowLimit": 10000
     },
     "inputWidgets": {},
     "nuid": "cd2538a1-de50-4bc1-8f61-f1c388bf3bd4",
     "showTitle": false,
     "tableResultSettingsMap": {},
     "title": ""
    }
   },
   "outputs": [],
   "source": [
    "%python\n",
    "query = \"\"\"\n",
    "SELECT \n",
    "    poheader.PurchaseOrderID, poheader.RevisionNumber, poheader.Status, poheader.EmployeeID, poheader.VendorID, poheader.ShipMethodID, \n",
    "    poheader.OrderDate, poheader.ShipDate, poheader.SubTotal, poheader.TaxAmt, poheader.Freight, poheader.TotalDue, poheader.ModifiedDate,\n",
    "    podetail.PurchaseOrderDetailID, podetail.DueDate, podetail.OrderQty, podetail.ProductID, podetail.UnitPrice, podetail.LineTotal, podetail.ReceivedQty, podetail.RejectedQty, podetail.StockedQty,\n",
    "    shipmethod.Name as ShipMethodName, shipmethod.ShipBase, shipmethod.ShipRate,\n",
    "    vendor.AccountNumber, vendor.Name as VendorName, vendor.CreditRating, vendor.PreferredVendorStatus, vendor.ActiveFlag, vendor.PurchasingWebServiceURL,\n",
    "    vvendorwithaddresses.AddressType, vvendorwithaddresses.AddressLine1, vvendorwithaddresses.AddressLine2, vvendorwithaddresses.City, vvendorwithaddresses.StateProvinceName, vvendorwithaddresses.PostalCode, vvendorwithaddresses.CountryRegionName,\n",
    "    vvendorwithcontacts.ContactType, vvendorwithcontacts.FirstName, vvendorwithcontacts.LastName, vvendorwithcontacts.EmailAddress, vvendorwithcontacts.Phone\n",
    "FROM \n",
    "    adventure_works2016.purchasing.bronze_purchaseorderheader poheader\n",
    "INNER JOIN \n",
    "    adventure_works2016.purchasing.bronze_purchaseorderdetail podetail\n",
    "ON \n",
    "    poheader.PurchaseOrderID = podetail.PurchaseOrderID\n",
    "INNER JOIN \n",
    "    adventure_works2016.purchasing.bronze_shipmethod shipmethod\n",
    "ON \n",
    "    poheader.ShipMethodID = shipmethod.ShipMethodID\n",
    "INNER JOIN \n",
    "    adventure_works2016.purchasing.bronze_vendor vendor\n",
    "ON \n",
    "    poheader.VendorID = vendor.VendorID\n",
    "INNER JOIN \n",
    "    adventure_works2016.purchasing.bronze_vvendorwithaddresses vvendorwithaddresses\n",
    "ON \n",
    "    vendor.VendorID = vvendorwithaddresses.VendorID\n",
    "INNER JOIN \n",
    "    adventure_works2016.purchasing.bronze_vvendorwithcontacts vvendorwithcontacts\n",
    "ON \n",
    "    vendor.VendorID = vvendorwithcontacts.VendorID\n",
    "\"\"\"\n",
    "\n",
    "df = spark.sql(query)\n",
    "display(df)"
   ]
  }
 ],
 "metadata": {
  "application/vnd.databricks.v1+notebook": {
   "computePreferences": {
    "hardware": {
     "accelerator": null,
     "gpuPoolId": null,
     "memory": null
    }
   },
   "dashboards": [],
   "environmentMetadata": {
    "base_environment": "",
    "environment_version": "2"
   },
   "inputWidgetPreferences": null,
   "language": "python",
   "notebookMetadata": {
    "mostRecentlyExecutedCommandWithImplicitDF": {
     "commandId": 4872560339659643,
     "dataframes": [
      "_sqldf"
     ]
    },
    "pythonIndentUnit": 4
   },
   "notebookName": "Bronze_to_Silver",
   "widgets": {}
  },
  "language_info": {
   "name": "python"
  }
 },
 "nbformat": 4,
 "nbformat_minor": 0
}
